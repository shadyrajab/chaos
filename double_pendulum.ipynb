{
 "cells": [
  {
   "cell_type": "markdown",
   "metadata": {},
   "source": [
    "# Comprovando a Teória do Caos com Python\n",
    "\n",
    "#### Este código simula o comportamento de um pêndulo duplo e demonstra como pequenas diferenças nas condições iniciais podem levar a comportamentos significativamente diferentes no longo prazo, ilustrando a teoria do caos. Abaixo está uma descrição detalhada do código:"
   ]
  },
  {
   "cell_type": "markdown",
   "metadata": {},
   "source": [
    "#### 1 - Importação das bibliotecas"
   ]
  },
  {
   "cell_type": "code",
   "execution_count": 1,
   "metadata": {},
   "outputs": [],
   "source": [
    "import numpy as np\n",
    "import matplotlib.pyplot as plt\n",
    "from matplotlib.animation import FuncAnimation\n",
    "from scipy.integrate import odeint"
   ]
  },
  {
   "cell_type": "markdown",
   "metadata": {},
   "source": [
    "- ``numpy`` é utilizado para operações matemáticas e manipulação de arrays.\n",
    "- ``matplotlib.pyplot`` é utilizado para criar gráficos e animações.\n",
    "- ``FuncAnimation`` é uma classe de matplotlib.animation para criar animações.\n",
    "- ``odeint`` da biblioteca scipy.integrate é usado para resolver equações diferenciais ordinárias (EDOs).\n"
   ]
  },
  {
   "cell_type": "markdown",
   "metadata": {},
   "source": [
    "#### 2 - Definição das Equações do Movimento"
   ]
  },
  {
   "cell_type": "code",
   "execution_count": 2,
   "metadata": {},
   "outputs": [],
   "source": [
    "def double_pendulum_derivatives(y, t, L1, L2, m1, m2, g):\n",
    "    theta1, z1, theta2, z2 = y\n",
    "    cos_delta = np.cos(theta1 - theta2)\n",
    "    sin_delta = np.sin(theta1 - theta2)\n",
    "\n",
    "    denominator1 = (m1 + m2) * L1 - m2 * L1 * cos_delta * cos_delta\n",
    "    denominator2 = (L2 / L1) * denominator1\n",
    "\n",
    "    dydt = np.zeros_like(y)\n",
    "\n",
    "    dydt[0] = z1\n",
    "    dydt[1] = ((m2 * L1 * z1 * z1 * sin_delta * cos_delta +\n",
    "                m2 * g * np.sin(theta2) * cos_delta +\n",
    "                m2 * L2 * z2 * z2 * sin_delta -\n",
    "                (m1 + m2) * g * np.sin(theta1)) / denominator1)\n",
    "\n",
    "    dydt[2] = z2\n",
    "    dydt[3] = ((-m2 * L2 * z2 * z2 * sin_delta * cos_delta +\n",
    "                (m1 + m2) * (g * np.sin(theta1) * cos_delta -\n",
    "                L1 * z1 * z1 * sin_delta - g * np.sin(theta2))) / denominator2)\n",
    "\n",
    "    return dydt\n"
   ]
  },
  {
   "cell_type": "markdown",
   "metadata": {},
   "source": [
    "- ``double_pendulum_derivatives`` é uma função que define as equações diferenciais para o pêndulo duplo.\n",
    "- ``y`` é o vetor de estado contendo os ângulos e as velocidades angulares dos pêndulos: \n",
    "\\begin{bmatrix}\n",
    "\\theta_1 \n",
    "z_1 \n",
    "\\theta_2 \n",
    "z_2\n",
    "\\end{bmatrix}\n",
    "- ``t`` é o vetor de tempo.\n",
    "- ``L1`` e ``L2`` são os comprimentos das hastes dos pêndulos.\n",
    "- ``m1`` e ``m2`` são as massas dos pêndulos.\n",
    "- ``g`` é a aceleração da gravidade.\n",
    "- A função calcula as derivadas dos ângulos e das velocidades angulares com base nas equações do movimento do pêndulo duplo.\n"
   ]
  },
  {
   "cell_type": "markdown",
   "metadata": {},
   "source": [
    "#### 3. Configuração dos Parâmetros e Condições Iniciais"
   ]
  },
  {
   "cell_type": "code",
   "execution_count": 3,
   "metadata": {},
   "outputs": [],
   "source": [
    "L1 = 1.0  # Comprimento do primeiro pêndulo\n",
    "L2 = 1.0  # Comprimento do segundo pêndulo\n",
    "m1 = 1.0  # Massa do primeiro pêndulo\n",
    "m2 = 1.0  # Massa do segundo pêndulo\n",
    "g = 9.81  # Aceleração da gravidade\n",
    "\n",
    "# Condições iniciais\n",
    "theta1_0 = np.pi / 2  # Ângulo inicial do primeiro pêndulo\n",
    "theta2_0 = np.pi / 4  # Ângulo inicial do segundo pêndulo\n",
    "z1_0 = 0.0            # Velocidade angular inicial do primeiro pêndulo\n",
    "z2_0 = 0.0            # Velocidade angular inicial do segundo pêndulo\n",
    "\n",
    "# Pequena alteração nas condições iniciais do segundo pêndulo\n",
    "theta1_0_small = theta1_0\n",
    "theta2_0_small = theta2_0 + 1e-9  # Diferença mínima no ângulo inicial"
   ]
  },
  {
   "cell_type": "markdown",
   "metadata": {},
   "source": [
    "- Definimos os parâmetros físicos dos pêndulos, como comprimento, massa e gravidade.\n",
    "- As condições iniciais são definidas para os ângulos e velocidades angulares.\n",
    "- Introduzimos uma pequena diferença no ângulo inicial do segundo pêndulo para observar o impacto no comportamento do sistema.\n"
   ]
  },
  {
   "cell_type": "markdown",
   "metadata": {},
   "source": [
    "#### 4. Integração Numérica"
   ]
  },
  {
   "cell_type": "code",
   "execution_count": 4,
   "metadata": {},
   "outputs": [],
   "source": [
    "t = np.linspace(0, 100, 2000)  # Tempo total de 100 segundos com 2000 frames\n",
    "\n",
    "# Condições iniciais para os dois sistemas\n",
    "y0 = [theta1_0, z1_0, theta2_0, z2_0]\n",
    "y0_small = [theta1_0_small, z1_0, theta2_0_small, z2_0]\n",
    "\n",
    "# Integração numérica usando odeint\n",
    "sol = odeint(double_pendulum_derivatives, y0, t, args=(L1, L2, m1, m2, g))\n",
    "sol_small = odeint(double_pendulum_derivatives, y0_small, t, args=(L1, L2, m1, m2, g))"
   ]
  },
  {
   "cell_type": "markdown",
   "metadata": {},
   "source": [
    "- ``t`` define o vetor de tempo para a simulação.\n",
    "- ``odeint`` resolve as equações diferenciais para os sistemas com e sem a pequena alteração inicial.\n"
   ]
  },
  {
   "cell_type": "markdown",
   "metadata": {},
   "source": [
    "#### 5. Conversão para Coordenadas Cartesianas"
   ]
  },
  {
   "cell_type": "code",
   "execution_count": 5,
   "metadata": {},
   "outputs": [],
   "source": [
    "# Extraindo os ângulos dos pêndulos\n",
    "theta1 = sol[:, 0]\n",
    "theta2 = sol[:, 2]\n",
    "theta1_small = sol_small[:, 0]\n",
    "theta2_small = sol_small[:, 2]\n",
    "\n",
    "# Convertendo para coordenadas cartesianas\n",
    "x1 = L1 * np.sin(theta1)\n",
    "y1 = -L1 * np.cos(theta1)\n",
    "x2 = x1 + L2 * np.sin(theta2)\n",
    "y2 = y1 - L2 * np.cos(theta2)\n",
    "\n",
    "x1_small = L1 * np.sin(theta1_small)\n",
    "y1_small = -L1 * np.cos(theta1_small)\n",
    "x2_small = x1_small + L2 * np.sin(theta2_small)\n",
    "y2_small = y1_small - L2 * np.cos(theta2_small)"
   ]
  },
  {
   "cell_type": "markdown",
   "metadata": {},
   "source": [
    "- Convertemos os ângulos dos pêndulos para coordenadas cartesianas para visualização no gráfico.\n",
    "- Calculamos as posições das massas dos pêndulos ao longo do tempo para ambos os conjuntos de condições iniciais.\n"
   ]
  },
  {
   "cell_type": "markdown",
   "metadata": {},
   "source": [
    "#### 6. Configuração da Animação\n"
   ]
  },
  {
   "cell_type": "code",
   "execution_count": 6,
   "metadata": {},
   "outputs": [
    {
     "data": {
      "image/png": "[encoded data removed]",
      "text/plain": [
       "<Figure size 800x600 with 1 Axes>"
      ]
     },
     "metadata": {},
     "output_type": "display_data"
    }
   ],
   "source": [
    "fig, ax = plt.subplots(figsize=(8, 6))\n",
    "ax.set_xlim(-2, 2)\n",
    "ax.set_ylim(-2, 2)\n",
    "\n",
    "# Linhas dos pêndulos e pontos para as massas\n",
    "line1, = ax.plot([], [], 'o-', color='blue', lw=2, label='Pêndulo 1')\n",
    "line2, = ax.plot([], [], 'o-', color='orange', lw=2, label='Pêndulo 2')\n",
    "time_template = 'Time = %.1fs'\n",
    "time_text = ax.text(0.05, 0.9, '', transform=ax.transAxes)\n",
    "\n",
    "# Função para inicializar a animação\n",
    "def init():\n",
    "    line1.set_data([], [])\n",
    "    line2.set_data([], [])\n",
    "    time_text.set_text('')\n",
    "    return line1, line2, time_text\n",
    "\n",
    "# Função para atualizar a animação\n",
    "def animate(i):\n",
    "    # Atualiza as posições do primeiro pêndulo\n",
    "    thisx1 = [0, x1[i], x2[i]]\n",
    "    thisy1 = [0, y1[i], y2[i]]\n",
    "    line1.set_data(thisx1, thisy1)\n",
    "    \n",
    "    # Atualiza as posições do segundo pêndulo (com pequenas alterações)\n",
    "    thisx2 = [0, x1_small[i], x2_small[i]]\n",
    "    thisy2 = [0, y1_small[i], y2_small[i]]\n",
    "    line2.set_data(thisx2, thisy2)\n",
    "    \n",
    "    time_text.set_text(time_template % t[i])\n",
    "    \n",
    "    return line1, line2, time_text\n",
    "\n",
    "# Criação da animação\n",
    "ani = FuncAnimation(fig, animate, frames=len(t),\n",
    "                    init_func=init, interval=30, blit=True)"
   ]
  },
  {
   "cell_type": "code",
   "execution_count": 8,
   "metadata": {},
   "outputs": [
    {
     "name": "stderr",
     "output_type": "stream",
     "text": [
      "MovieWriter imagemagick unavailable; using Pillow instead.\n"
     ]
    }
   ],
   "source": [
    "ani.save('pendulo_caotico.gif', writer='imagemagick', fps=30)"
   ]
  },
  {
   "cell_type": "markdown",
   "metadata": {},
   "source": [
    "- Configuramos o gráfico e a animação usando ``matplotlib``.\n",
    "- ``init`` inicializa os elementos do gráfico.\n",
    "- ``animate`` atualiza o gráfico para cada frame da animação.\n",
    "- ``FuncAnimation`` cria a animação que mostra como o sistema evolui ao longo do tempo para as duas configurações de condições iniciais.\n"
   ]
  },
  {
   "cell_type": "markdown",
   "metadata": {},
   "source": [
    "## Conclusão\n",
    "O código ilustra o comportamento caótico do pêndulo duplo, mostrando como uma pequena alteração nas condições iniciais pode levar a diferenças visíveis no movimento ao longo do tempo. A animação permite observar essas diferenças e visualizar a sensibilidade do sistema a mudanças iniciais.\n",
    "\n",
    "\n",
    "\n",
    "\n",
    "\n",
    "\n"
   ]
  }
 ],
 "metadata": {
  "kernelspec": {
   "display_name": "Python 3",
   "language": "python",
   "name": "python3"
  },
  "language_info": {
   "codemirror_mode": {
    "name": "ipython",
    "version": 3
   },
   "file_extension": ".py",
   "mimetype": "text/x-python",
   "name": "python",
   "nbconvert_exporter": "python",
   "pygments_lexer": "ipython3",
   "version": "3.12.1"
  }
 },
 "nbformat": 4,
 "nbformat_minor": 2
}
